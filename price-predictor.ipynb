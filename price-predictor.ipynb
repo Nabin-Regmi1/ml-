{
 "cells": [
  {
   "cell_type": "code",
   "execution_count": 1,
   "id": "7d970527-e957-4060-a094-76842c408b68",
   "metadata": {},
   "outputs": [],
   "source": [
    "from joblib import dump, load\n",
    "import numpy as np\n",
    "model = load('house.joblib')"
   ]
  },
  {
   "cell_type": "code",
   "execution_count": 3,
   "id": "b8423277-aafd-443e-9ee5-bedf1cd54c47",
   "metadata": {},
   "outputs": [
    {
     "data": {
      "text/plain": [
       "array([25.443])"
      ]
     },
     "execution_count": 3,
     "metadata": {},
     "output_type": "execute_result"
    }
   ],
   "source": [
    "input = np.array([[-0.44352175,  3.12628155, -1.35893781, -0.27288841, -1.0542567 ,\n",
    "        0.49743702, -1.3938808 ,  2.19312325, -0.65766683, -0.78557904,\n",
    "       -0.69277865,  0.39131918, -0.94116739]])\n",
    "model.predict(input)"
   ]
  },
  {
   "cell_type": "code",
   "execution_count": null,
   "id": "c9dd283c-4973-4cbd-b6a9-acea2c22ed15",
   "metadata": {},
   "outputs": [],
   "source": []
  }
 ],
 "metadata": {
  "kernelspec": {
   "display_name": "Python 3 (ipykernel)",
   "language": "python",
   "name": "python3"
  },
  "language_info": {
   "codemirror_mode": {
    "name": "ipython",
    "version": 3
   },
   "file_extension": ".py",
   "mimetype": "text/x-python",
   "name": "python",
   "nbconvert_exporter": "python",
   "pygments_lexer": "ipython3",
   "version": "3.12.1"
  }
 },
 "nbformat": 4,
 "nbformat_minor": 5
}
